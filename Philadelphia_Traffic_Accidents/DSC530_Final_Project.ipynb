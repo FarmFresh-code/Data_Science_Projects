{
 "cells": [
  {
   "cell_type": "markdown",
   "metadata": {},
   "source": [
    "### DSC 530 Final Project - Updated Philadelphia Vehicle Accident Data"
   ]
  },
  {
   "cell_type": "code",
   "execution_count": 1,
   "metadata": {},
   "outputs": [],
   "source": [
    "import random\n",
    "import numpy as np\n",
    "import pandas as pd\n",
    "import matplotlib.pyplot as plt\n",
    "import thinkstats2\n",
    "import thinkplot\n",
    "import statistics\n",
    "from scipy.stats import poisson\n",
    "import statsmodels.formula.api as smf"
   ]
  },
  {
   "cell_type": "code",
   "execution_count": 2,
   "metadata": {},
   "outputs": [],
   "source": [
    "df = pd.read_csv(\"crash_data_collision_crash_2007_2017.csv\")"
   ]
  },
  {
   "cell_type": "markdown",
   "metadata": {},
   "source": [
    "### Variable Explanation"
   ]
  },
  {
   "cell_type": "markdown",
   "metadata": {},
   "source": [
    "#### For this analysis I am using the following variables:"
   ]
  },
  {
   "cell_type": "code",
   "execution_count": null,
   "metadata": {},
   "outputs": [],
   "source": [
    "# crash_month = month in which crash occurred\n",
    "# day_of_week = day of week on which crash occurred\n",
    "# hour_of_day = hour of day in which crash occurred\n",
    "# time_of_day = minute number of day during which crash occurred\n",
    "#      example: 10:15 AM = 1015\n",
    "#      example: 10:15 PM = 2215\n",
    "# illumination = lighting conditions when crash occurred\n",
    "# weather = weather type when crash occurred\n",
    "# road_condition = condition of road when crash occurred\n",
    "# fatal_count = number of fatalaties resulting from the crash\n",
    "# maj_inj_count = number of major injuries resulting from the crash\n",
    "# mod_inj_count = number of moderate injuries resulting from the crash\n",
    "# min_inj_count = number of minor injuries resulting from the crash\n",
    "# tot_inj_count = number of injuries resulting from the crash\n",
    "# motorcycle_count = number of motorcycles involved in the crash\n",
    "# small_truck_count = number of small trucks involved in the crash\n",
    "# heavy_truck_count = number of heavy trucks involved in the crash\n",
    "# suv_count = number of suvs involved in the crash\n",
    "# van_count = number of vans involved in the crash\n",
    "# unbelted_occ_count = number of vehicle occupants not wearing a seatbelt at time of crash\n",
    "# bicycle_count = number of bicycles involved in the crash\n",
    "# driver_count_16yr = number of drivers 16 years of age involved in the crash\n",
    "# driver_count_17yr = number of drivers 17 years of age involved in the crash\n",
    "# driver_count_18yr = number of drivers 18 years of age involved in the crash\n",
    "# driver_count_19yr = number of drivers 19 years of age involved in the crash\n",
    "# driver_count_20yr = number of drivers 20 years of age involved in the crash\n",
    "# driver_count_50_64yr = number of drivers 50 to 64 years of age involved in the crash\n",
    "# driver_count_65_74yr = number of drivers 65 to 74 years of age involved in the crash\n",
    "# driver_count_75plus = number of drivers 75 years of age or older involved in the crash"
   ]
  },
  {
   "cell_type": "markdown",
   "metadata": {},
   "source": [
    "## Time Details of Crash"
   ]
  },
  {
   "cell_type": "markdown",
   "metadata": {},
   "source": [
    "### Hour of Day of Crash"
   ]
  },
  {
   "cell_type": "code",
   "execution_count": 3,
   "metadata": {},
   "outputs": [
    {
     "data": {
      "image/png": "[encoded data removed]",
      "text/plain": [
       "<Figure size 432x288 with 1 Axes>"
      ]
     },
     "metadata": {
      "needs_background": "light"
     },
     "output_type": "display_data"
    },
    {
     "data": {
      "text/plain": [
       "<Figure size 576x432 with 0 Axes>"
      ]
     },
     "metadata": {},
     "output_type": "display_data"
    }
   ],
   "source": [
    "# histogram for hour of day during which the crash occurred\n",
    "hist = thinkstats2.Hist(df.hour_of_day, label = \"Hour\")\n",
    "thinkplot.Hist(hist)\n",
    "thinkplot.Show(xlabel = 'Hour of Day', ylabel = 'Frequency', title = \"Hour of Day of Crash\")"
   ]
  },
  {
   "cell_type": "markdown",
   "metadata": {},
   "source": [
    "The histogram indicates outliers in the data.  The value is '99' and indicates an unknown value.  The outliers should be removed as the value 99 is unknown and is not relevant to the data.  The histogram below is updated with outliers removed."
   ]
  },
  {
   "cell_type": "code",
   "execution_count": 4,
   "metadata": {},
   "outputs": [
    {
     "data": {
      "image/png": "[encoded data removed]",
      "text/plain": [
       "<Figure size 432x288 with 1 Axes>"
      ]
     },
     "metadata": {
      "needs_background": "light"
     },
     "output_type": "display_data"
    },
    {
     "data": {
      "text/plain": [
       "<Figure size 576x432 with 0 Axes>"
      ]
     },
     "metadata": {},
     "output_type": "display_data"
    }
   ],
   "source": [
    "# histogram for hour of day during which the crash occurred - removing outliers\n",
    "hist = thinkstats2.Hist(df.hour_of_day.replace(99, np.nan), label = \"Hour\")\n",
    "thinkplot.Hist(hist)\n",
    "thinkplot.Show(xlabel = 'Hour of Day', ylabel = 'Frequency', title = \"Hour of Day of Crash\")"
   ]
  },
  {
   "cell_type": "markdown",
   "metadata": {},
   "source": [
    "The distribution is not normally distributed, it is positively skewed.  "
   ]
  },
  {
   "cell_type": "code",
   "execution_count": 5,
   "metadata": {},
   "outputs": [
    {
     "name": "stdout",
     "output_type": "stream",
     "text": [
      "Mean Hour of Day:  12.7\n",
      "Mode Hour of Day: 16.0\n",
      "Variance for Hour of Day variable: 6.2\n"
     ]
    }
   ],
   "source": [
    "# Calculate Descriptive Statistics For Hour of Day\n",
    "\n",
    "mean_hour = np.mean(df.hour_of_day.replace(99, np.nan))\n",
    "mode_hour = statistics.mode(df.hour_of_day.replace(99, np.nan))\n",
    "stdev_hour = np.nanstd(df.hour_of_day.replace(99, np.nan))\n",
    "\n",
    "print('Mean Hour of Day: ', round(mean_hour,1))\n",
    "print('Mode Hour of Day:', mode_hour)\n",
    "print('Variance for Hour of Day variable:', round(stdev_hour,1))"
   ]
  },
  {
   "cell_type": "markdown",
   "metadata": {},
   "source": [
    "The distance between the mean and mode validate the absence of normalcy in the distribution. "
   ]
  },
  {
   "cell_type": "code",
   "execution_count": 6,
   "metadata": {},
   "outputs": [
    {
     "data": {
      "image/png": "[encoded data removed]",
      "text/plain": [
       "<Figure size 432x288 with 1 Axes>"
      ]
     },
     "metadata": {
      "needs_background": "light"
     },
     "output_type": "display_data"
    },
    {
     "data": {
      "text/plain": [
       "<Figure size 576x432 with 0 Axes>"
      ]
     },
     "metadata": {},
     "output_type": "display_data"
    }
   ],
   "source": [
    "cdf = thinkstats2.Cdf(df.hour_of_day.replace(99, np.nan), label = 'Time of Day')\n",
    "thinkplot.Cdf(cdf)\n",
    "thinkplot.Show(xlabel = 'Hour of Day', ylable = 'CDF', title = 'CDF of Hour of Day in which Crash Occurred')"
   ]
  },
  {
   "cell_type": "markdown",
   "metadata": {},
   "source": [
    "The CDF above looks like steps as there are only 24 discrete values.  The CDF below uses 'Time of Day' instead which shows a more consistent distribution as there are 1,440 values (one for each minute of a day).  The value 9999 (unknown), has been replaced with missing values."
   ]
  },
  {
   "cell_type": "code",
   "execution_count": 7,
   "metadata": {},
   "outputs": [
    {
     "data": {
      "image/png": "[encoded data removed]",
      "text/plain": [
       "<Figure size 432x288 with 1 Axes>"
      ]
     },
     "metadata": {
      "needs_background": "light"
     },
     "output_type": "display_data"
    },
    {
     "data": {
      "text/plain": [
       "<Figure size 576x432 with 0 Axes>"
      ]
     },
     "metadata": {},
     "output_type": "display_data"
    }
   ],
   "source": [
    "cdf = thinkstats2.Cdf(df.time_of_day.replace(9999, np.nan), label = 'Time of Day')\n",
    "thinkplot.Cdf(cdf)\n",
    "thinkplot.Show(xlabel = 'Time of Day', ylable = 'CDF', title = 'CDF of Time of Day in which Crash Occurred')"
   ]
  },
  {
   "cell_type": "code",
   "execution_count": 8,
   "metadata": {},
   "outputs": [
    {
     "name": "stdout",
     "output_type": "stream",
     "text": [
      "Hour of crash:  11\n",
      "Percentile Rank  37.9\n"
     ]
    }
   ],
   "source": [
    "# Calculate the percentile rank for hour of crash\n",
    "\n",
    "# hour to evaluate\n",
    "hourofcrash = 11\n",
    "hour = df.hour_of_day\n",
    "\n",
    "# function to calculate percentile rank for hour of crash\n",
    "def EvalHourCdf(hour, hourofcrash):\n",
    "    \n",
    "    #iterator for crashed before or same hour as evaluated hour\n",
    "    count = 0.0\n",
    "    # for loop to evaluate and count crashes before or same hour as evaluated hour\n",
    "    for value in hour:\n",
    "        if value <= hourofcrash:\n",
    "            count += 1\n",
    "    \n",
    "    print('Hour of crash: ',hourofcrash)\n",
    "    prob = count / len(hour)\n",
    "    \n",
    "    return prob\n",
    "\n",
    "percentile_hour = EvalHourCdf(hour, hourofcrash)\n",
    "print('Percentile Rank ', round(percentile_hour*100,1))"
   ]
  },
  {
   "cell_type": "markdown",
   "metadata": {},
   "source": [
    "Percentile rank for crashes at 11AM (hour of day - includes the hour from 11:00 to 11:59 AM)  38% of reported crashes occur before noon."
   ]
  },
  {
   "cell_type": "code",
   "execution_count": 9,
   "metadata": {},
   "outputs": [
    {
     "name": "stdout",
     "output_type": "stream",
     "text": [
      "Time of crash:  900\n",
      "Percentile Rank  26.0\n"
     ]
    }
   ],
   "source": [
    "# Calculate the percentile rank for time of crash\n",
    "\n",
    "# hour to evaluate\n",
    "timeofcrash = 900\n",
    "time = df.time_of_day\n",
    "\n",
    "# function to calculate percentile rank for hour of crash\n",
    "def EvalTimeCdf(time, timeofcrash):\n",
    "    \n",
    "    #iterator for crashed before or at same time as evaluated time\n",
    "    count = 0.0\n",
    "    # for loop to evaluate and count crashes before or same time as evaluated time\n",
    "    for value in time:\n",
    "        if value <= timeofcrash:\n",
    "            count += 1\n",
    "    \n",
    "    print('Time of crash: ', timeofcrash)\n",
    "    prob = count / len(time)\n",
    "    \n",
    "    return prob\n",
    "\n",
    "percentile_time = EvalTimeCdf(time, timeofcrash)\n",
    "print('Percentile Rank ', round(percentile_time*100,1))"
   ]
  },
  {
   "cell_type": "markdown",
   "metadata": {},
   "source": [
    "Percentile rank for crashes at 9AM. (Time of day)  26% of crashes occur at 9:00 AM or earlier."
   ]
  },
  {
   "cell_type": "markdown",
   "metadata": {},
   "source": [
    "### Day of the Week"
   ]
  },
  {
   "cell_type": "code",
   "execution_count": 10,
   "metadata": {},
   "outputs": [
    {
     "data": {
      "image/png": "[encoded data removed]",
      "text/plain": [
       "<Figure size 432x288 with 1 Axes>"
      ]
     },
     "metadata": {
      "needs_background": "light"
     },
     "output_type": "display_data"
    },
    {
     "data": {
      "text/plain": [
       "<Figure size 576x432 with 0 Axes>"
      ]
     },
     "metadata": {},
     "output_type": "display_data"
    }
   ],
   "source": [
    "# count values of all days of week for crashes and create histogram\n",
    "hist = thinkstats2.Hist(df.day_of_week, label = \"Day of Week\")\n",
    "thinkplot.Hist(hist)\n",
    "thinkplot.Show(xlabel = 'Day', ylabel = 'Frequency', title = 'Crashes by Day of Week')"
   ]
  },
  {
   "cell_type": "markdown",
   "metadata": {},
   "source": [
    "The 'Crashes by Day of Week' histogram indicates a higher volume of crashes reported of Fridays and Saturdays (days 6 and 7)."
   ]
  },
  {
   "cell_type": "markdown",
   "metadata": {},
   "source": [
    "### By Month"
   ]
  },
  {
   "cell_type": "code",
   "execution_count": 11,
   "metadata": {},
   "outputs": [
    {
     "data": {
      "image/png": "[encoded data removed]",
      "text/plain": [
       "<Figure size 432x288 with 1 Axes>"
      ]
     },
     "metadata": {
      "needs_background": "light"
     },
     "output_type": "display_data"
    },
    {
     "data": {
      "text/plain": [
       "<Figure size 576x432 with 0 Axes>"
      ]
     },
     "metadata": {},
     "output_type": "display_data"
    }
   ],
   "source": [
    "# count values of months for crashes and create histogram\n",
    "hist = thinkstats2.Hist(df.crash_month, label = \"Month\")\n",
    "thinkplot.Hist(hist)\n",
    "thinkplot.Show(xlabel = 'Month', ylabel = 'Frequency', title = 'Crashes by Month')"
   ]
  },
  {
   "cell_type": "markdown",
   "metadata": {},
   "source": [
    "The 'Crashes by Month' histogram indcates a upward trend in crashes from Feburary through May (month 5).  This may be due to more vehicles on the road with nicer weather as we move through Spring.  We also see an uptick in reports for the month of September compared to adjacent months."
   ]
  },
  {
   "cell_type": "markdown",
   "metadata": {},
   "source": [
    "## Environmental Factors"
   ]
  },
  {
   "cell_type": "markdown",
   "metadata": {},
   "source": [
    "### Lighting at time of crash"
   ]
  },
  {
   "cell_type": "code",
   "execution_count": null,
   "metadata": {},
   "outputs": [],
   "source": [
    "# Values for variable = 'illumination'\n",
    "1 – Daylight \n",
    "2 – Dark – no street lights \n",
    "3 – Dark – street lights \n",
    "4 – Dusk \n",
    "5 – Dawn \n",
    "6 – Dark – unknown roadway lighting \n",
    "8 – Other \n",
    "9 – Unknown (expired)"
   ]
  },
  {
   "cell_type": "code",
   "execution_count": 12,
   "metadata": {},
   "outputs": [
    {
     "data": {
      "image/png": "[encoded data removed]",
      "text/plain": [
       "<Figure size 432x288 with 1 Axes>"
      ]
     },
     "metadata": {},
     "output_type": "display_data"
    }
   ],
   "source": [
    "# Data to plot\n",
    "labels = 'Daylight','Dark – street lights','Dusk' ,'Dark – no street lights','Dawn','Dark - unknow','Other','Unknown'\n",
    "\n",
    "# Plot\n",
    "plt.pie(df.illumination.value_counts(), labels=labels, autopct='%1.1f%%', shadow=True, startangle=140)\n",
    "plt.axis('equal')\n",
    "plt.show()"
   ]
  },
  {
   "cell_type": "markdown",
   "metadata": {},
   "source": [
    "More than 60% of reported crashes occur in 'daylight' (61%) with an additional 34% in the dark with street lights present."
   ]
  },
  {
   "cell_type": "markdown",
   "metadata": {},
   "source": [
    "### Weather at time of crash"
   ]
  },
  {
   "cell_type": "code",
   "execution_count": null,
   "metadata": {},
   "outputs": [],
   "source": [
    "# Values for variable = 'weather'\n",
    "1 – No adverse conditions \n",
    "2 – Rain \n",
    "3 – Sleet (hail) \n",
    "4 – Snow \n",
    "5 – Fog \n",
    "6 – Rain and fog \n",
    "7 – Sleet and fog \n",
    "8 – Other \n",
    "9 – Unknown"
   ]
  },
  {
   "cell_type": "code",
   "execution_count": 14,
   "metadata": {},
   "outputs": [
    {
     "data": {
      "image/png": "[encoded data removed]",
      "text/plain": [
       "<Figure size 432x288 with 1 Axes>"
      ]
     },
     "metadata": {},
     "output_type": "display_data"
    }
   ],
   "source": [
    "# Data to plot\n",
    "labels = 'No adverse conditions','Rain','Snow ' ,'Unknown','Dawn','Other','Other','Unknown','Unknown','Unknown'\n",
    "\n",
    "# Plot\n",
    "plt.pie(df.weather.value_counts(), labels=labels, autopct='%1.1f%%', shadow=True, startangle=140)\n",
    "plt.axis('equal')\n",
    "plt.show()"
   ]
  },
  {
   "cell_type": "markdown",
   "metadata": {},
   "source": [
    "More than 4 out of 5 crashes occur when there are no adverse weather conditions.  Among adverse conditions, the most common at the time of an accident is 'rain' (13% of reported crashes)."
   ]
  },
  {
   "cell_type": "markdown",
   "metadata": {},
   "source": [
    "### Injuries Resulting From Crashes"
   ]
  },
  {
   "cell_type": "code",
   "execution_count": 15,
   "metadata": {},
   "outputs": [
    {
     "data": {
      "image/png": "[encoded data removed]",
      "text/plain": [
       "<Figure size 432x288 with 1 Axes>"
      ]
     },
     "metadata": {
      "needs_background": "light"
     },
     "output_type": "display_data"
    },
    {
     "data": {
      "text/plain": [
       "<Figure size 576x432 with 0 Axes>"
      ]
     },
     "metadata": {},
     "output_type": "display_data"
    }
   ],
   "source": [
    "# count values of injuries for crashes and create histogram\n",
    "hist = thinkstats2.Hist(df.injury_count, label = \"Injuries\")\n",
    "thinkplot.Hist(hist)\n",
    "thinkplot.Show(xlabel = 'Injuries', ylabel = 'Frequency', title = 'Number of Injuries Resulting from Crashes')"
   ]
  },
  {
   "cell_type": "code",
   "execution_count": 16,
   "metadata": {},
   "outputs": [
    {
     "data": {
      "text/plain": [
       "<matplotlib.axes._subplots.AxesSubplot at 0x1f853a18808>"
      ]
     },
     "execution_count": 16,
     "metadata": {},
     "output_type": "execute_result"
    },
    {
     "data": {
      "image/png": "[encoded data removed]",
      "text/plain": [
       "<Figure size 432x288 with 1 Axes>"
      ]
     },
     "metadata": {
      "needs_background": "light"
     },
     "output_type": "display_data"
    }
   ],
   "source": [
    "# Histogram using percent instead of frequencies\n",
    "dfinjury = df.injury_count.value_counts()\n",
    "dfinjury = dfinjury.to_frame()\n",
    "\n",
    "dflen = len(df)\n",
    "for i in dfinjury:\n",
    "    injurypercent = dfinjury.injury_count/dflen\n",
    "    dfinjury['PERCENT'] = injurypercent\n",
    "    \n",
    "sorted_injurypercent = injurypercent.sort_index()\n",
    "sorted_injurypercent.plot(kind = 'bar', color = 'orange', title = 'Percent of Injury Count')"
   ]
  },
  {
   "cell_type": "code",
   "execution_count": 17,
   "metadata": {},
   "outputs": [
    {
     "name": "stdout",
     "output_type": "stream",
     "text": [
      "Mean # Injuries:  1.1\n",
      "Mode # Injuries: 1\n",
      "Variance for # Injuries: 1.0\n"
     ]
    }
   ],
   "source": [
    "# Calculate Descriptive Statistics For Number of Injuries\n",
    "mean_injuries = np.mean(df.injury_count)\n",
    "mode_injuries = statistics.mode(df.injury_count)\n",
    "stdev_injuries = np.nanstd(df.injury_count)\n",
    "\n",
    "print('Mean # Injuries: ', round(mean_injuries,1))\n",
    "print('Mode # Injuries:', mode_injuries)\n",
    "print('Variance for # Injuries:', round(stdev_injuries,1))"
   ]
  },
  {
   "cell_type": "markdown",
   "metadata": {},
   "source": [
    "The distribution for the injury_count variable resembles the Poisson distribution.  You could use the Poisson distribution to estimate the likelihood of a specific number of injuries resulting from a crash."
   ]
  },
  {
   "cell_type": "code",
   "execution_count": 18,
   "metadata": {},
   "outputs": [
    {
     "data": {
      "text/plain": [
       "[<matplotlib.lines.Line2D at 0x1f8539ed788>]"
      ]
     },
     "execution_count": 18,
     "metadata": {},
     "output_type": "execute_result"
    },
    {
     "data": {
      "image/png": "[encoded data removed]",
      "text/plain": [
       "<Figure size 432x288 with 1 Axes>"
      ]
     },
     "metadata": {
      "needs_background": "light"
     },
     "output_type": "display_data"
    }
   ],
   "source": [
    "# Plot the Poisson Analytical Distribution\n",
    "mu = 1.1\n",
    "dist = poisson(mu)\n",
    "x = np.arange(0,43)\n",
    "plt.plot(x, dist.pmf(x), color = 'blue')"
   ]
  },
  {
   "cell_type": "markdown",
   "metadata": {},
   "source": [
    "99% of crashes have 4 or fewer injuries, there are outliers in the variable.  For purposes of getting a better view of the proportional comparisons among the highest frequencies (0 through 4), I am removing the outliers with 5 or more injuries."
   ]
  },
  {
   "cell_type": "code",
   "execution_count": 19,
   "metadata": {},
   "outputs": [
    {
     "data": {
      "image/png": "[encoded data removed]",
      "text/plain": [
       "<Figure size 432x288 with 1 Axes>"
      ]
     },
     "metadata": {
      "needs_background": "light"
     },
     "output_type": "display_data"
    },
    {
     "data": {
      "text/plain": [
       "<Figure size 576x432 with 0 Axes>"
      ]
     },
     "metadata": {},
     "output_type": "display_data"
    }
   ],
   "source": [
    "# create new variable that includes only crashes with 4 or fewer injuries\n",
    "df['injuries'] = np.where(df['injury_count'] < 5, df['injury_count'], np.nan)\n",
    "hist = thinkstats2.Hist(df.injuries, label = \"Injuries - No Outliers\")\n",
    "thinkplot.Hist(hist)\n",
    "thinkplot.Show(xlabel = 'Injuries', ylabel = 'Frequency', title = 'Number of Injuries Resulting from Crashes w/Outliers Removed')"
   ]
  },
  {
   "cell_type": "code",
   "execution_count": 20,
   "metadata": {},
   "outputs": [
    {
     "name": "stdout",
     "output_type": "stream",
     "text": [
      "Outliers Removed:\n",
      "Mean # Injuries:  1.0\n",
      "Mode # Injuries: 1.0\n",
      "Variance for # Injuries: 0.8\n"
     ]
    }
   ],
   "source": [
    "# Calculate Descriptive Statistics For Number of Injuries with outliers removed\n",
    "mean_injuries = np.mean(df['injuries'])\n",
    "mode_injuries = statistics.mode(df['injuries'])\n",
    "stdev_injuries = np.nanstd(df['injuries'])\n",
    "\n",
    "print(\"Outliers Removed:\")\n",
    "print('Mean # Injuries: ', round(mean_injuries,1))\n",
    "print('Mode # Injuries:', mode_injuries)\n",
    "print('Variance for # Injuries:', round(stdev_injuries,1))"
   ]
  },
  {
   "cell_type": "code",
   "execution_count": 21,
   "metadata": {},
   "outputs": [
    {
     "name": "stdout",
     "output_type": "stream",
     "text": [
      "The dataframe below shows the percent of recorded crashes for each value of the injury_count variable.\n",
      "It validates that 99% of crashes have 4 or fewer injuries.\n",
      "It also indicates that the higher values such as 29, 31, 33, and 43 may be outliers.\n",
      "\n",
      "    injury_count   PERCENT\n",
      "1          41786  0.539439\n",
      "0          20373  0.263006\n",
      "2           9811  0.126656\n",
      "3           3366  0.043454\n",
      "4           1262  0.016292\n",
      "5            448  0.005783\n",
      "6            219  0.002827\n",
      "7             92  0.001188\n",
      "8             42  0.000542\n",
      "9             17  0.000219\n",
      "10            13  0.000168\n",
      "11             7  0.000090\n",
      "13             6  0.000077\n",
      "14             4  0.000052\n",
      "12             3  0.000039\n",
      "16             3  0.000039\n",
      "15             2  0.000026\n",
      "19             2  0.000026\n",
      "21             2  0.000026\n",
      "33             1  0.000013\n",
      "29             1  0.000013\n",
      "31             1  0.000013\n",
      "43             1  0.000013\n"
     ]
    }
   ],
   "source": [
    "# calculate percentage of injury count\n",
    "# create new dataframe of percentages by injury count\n",
    "dfinjcount = df.injury_count.value_counts()\n",
    "\n",
    "dfinjcount = dfinjcount.to_frame()\n",
    "\n",
    "dflen = len(df)\n",
    "\n",
    "for i in dfinjcount:\n",
    "    injpercent = dfinjcount.injury_count/dflen\n",
    "    dfinjcount['PERCENT'] = injpercent\n",
    "    \n",
    "print('The dataframe below shows the percent of recorded crashes for each value of the injury_count variable.')\n",
    "print('It validates that 99% of crashes have 4 or fewer injuries.')\n",
    "print('It also indicates that the higher values such as 29, 31, 33, and 43 may be outliers.\\n')\n",
    "print(dfinjcount)"
   ]
  },
  {
   "cell_type": "markdown",
   "metadata": {},
   "source": [
    "## Correlation Analysis & Scatterplots"
   ]
  },
  {
   "cell_type": "code",
   "execution_count": 22,
   "metadata": {},
   "outputs": [],
   "source": [
    "from scipy.stats.stats import pearsonr   "
   ]
  },
  {
   "cell_type": "code",
   "execution_count": 23,
   "metadata": {},
   "outputs": [
    {
     "name": "stdout",
     "output_type": "stream",
     "text": [
      "(0.11001804520197542, 3.817740828304897e-207)\n"
     ]
    }
   ],
   "source": [
    "# Measure correlation between num cars and num injuries\n",
    "\n",
    "a = df.total_units\n",
    "b = df.injury_count\n",
    "print (pearsonr(a,b))"
   ]
  },
  {
   "cell_type": "markdown",
   "metadata": {},
   "source": [
    "Weak relationship between the total number of vehicles in the crash and total injuries."
   ]
  },
  {
   "cell_type": "code",
   "execution_count": 24,
   "metadata": {},
   "outputs": [
    {
     "data": {
      "image/png": "[encoded data removed]",
      "text/plain": [
       "<Figure size 432x288 with 1 Axes>"
      ]
     },
     "metadata": {
      "needs_background": "light"
     },
     "output_type": "display_data"
    },
    {
     "data": {
      "text/plain": [
       "<Figure size 576x432 with 0 Axes>"
      ]
     },
     "metadata": {},
     "output_type": "display_data"
    }
   ],
   "source": [
    "# Scatterplot of injury count and total units (vehicles) in crash\n",
    "\n",
    "a = df.total_units\n",
    "b = df.injury_count\n",
    "\n",
    "\n",
    "thinkplot.Scatter(a,b)\n",
    "thinkplot.Show(xlabel = 'Total Units in Crash', ylabel = 'Injury Count')"
   ]
  },
  {
   "cell_type": "code",
   "execution_count": 25,
   "metadata": {},
   "outputs": [
    {
     "data": {
      "image/png": "[encoded data removed]",
      "text/plain": [
       "<Figure size 432x288 with 1 Axes>"
      ]
     },
     "metadata": {
      "needs_background": "light"
     },
     "output_type": "display_data"
    },
    {
     "data": {
      "text/plain": [
       "<Figure size 576x432 with 0 Axes>"
      ]
     },
     "metadata": {},
     "output_type": "display_data"
    }
   ],
   "source": [
    "# Scatterplot of person count and injury count\n",
    "a = df.person_count\n",
    "b = df.injury_count\n",
    "\n",
    "thinkplot.Scatter(a,b)\n",
    "thinkplot.Show(xlabel = 'Number of Persons in Crash', ylabel = 'Injury Count')"
   ]
  },
  {
   "cell_type": "markdown",
   "metadata": {},
   "source": [
    "The scatterplot indicates an increase in the number of injuries as the number of persons involved in the crash increases.  It's intuitive and one of the"
   ]
  },
  {
   "cell_type": "code",
   "execution_count": 26,
   "metadata": {},
   "outputs": [
    {
     "name": "stdout",
     "output_type": "stream",
     "text": [
      "(0.4767781942310868, 0.0)\n"
     ]
    }
   ],
   "source": [
    "# Measure correlation between number of persons in the crash and number of injuries\n",
    "\n",
    "a = df.person_count\n",
    "b = df.injury_count\n",
    "print (pearsonr(a,b))"
   ]
  },
  {
   "cell_type": "markdown",
   "metadata": {},
   "source": [
    "The correlation coefficient of 0.48 indicates a moderately strong relationship between the number of persons involved in a crash and the number of injuries resulting from the crash."
   ]
  },
  {
   "cell_type": "markdown",
   "metadata": {},
   "source": [
    "## Create age groupings for comparison"
   ]
  },
  {
   "cell_type": "code",
   "execution_count": 27,
   "metadata": {},
   "outputs": [],
   "source": [
    "# age variables\n",
    "df['age_16'] = np.where(df['driver_count_16yr'] >= 1, 1, 0)\n",
    "df['age_17'] = np.where(df['driver_count_17yr'] >= 1, 1, 0)\n",
    "df['age_18'] = np.where(df['driver_count_18yr'] >= 1, 1, 0)\n",
    "df['age_19'] = np.where(df['driver_count_19yr'] >= 1, 1, 0)\n",
    "df['age_20'] = np.where(df['driver_count_20yr'] >= 1, 1, 0)\n",
    "df['age_50_64'] = np.where(df['driver_count_50_64yr'] >= 1, 1, 0)\n",
    "df['age_65_75'] = np.where(df['driver_count_65_74yr'] >= 1, 1, 0)\n",
    "df['age_75plus'] = np.where(df['driver_count_75plus'] >= 1, 1, 0)"
   ]
  },
  {
   "cell_type": "code",
   "execution_count": 28,
   "metadata": {},
   "outputs": [],
   "source": [
    "# create 2 variables based on age for comparison:\n",
    "df['younger'] = df['age_16'] + df['age_17'] + df['age_18'] + df['age_19'] + df['age_20']\n",
    "df['older'] = df['age_50_64'] + df['age_65_75'] + df['age_75plus']"
   ]
  },
  {
   "cell_type": "code",
   "execution_count": 29,
   "metadata": {},
   "outputs": [],
   "source": [
    "df_younger = df[df['younger'] > 0]\n",
    "df_older = df[df['older'] > 0]"
   ]
  },
  {
   "cell_type": "markdown",
   "metadata": {},
   "source": [
    "## PMF"
   ]
  },
  {
   "cell_type": "code",
   "execution_count": 30,
   "metadata": {},
   "outputs": [
    {
     "data": {
      "image/png": "[encoded data removed]",
      "text/plain": [
       "<Figure size 864x432 with 2 Axes>"
      ]
     },
     "metadata": {
      "needs_background": "light"
     },
     "output_type": "display_data"
    },
    {
     "data": {
      "text/plain": [
       "<Figure size 576x432 with 0 Axes>"
      ]
     },
     "metadata": {},
     "output_type": "display_data"
    }
   ],
   "source": [
    "# plot the PMFs\n",
    "younger_pmf = thinkstats2.Pmf(df_younger.hour_of_day, label='Younger')\n",
    "older_pmf = thinkstats2.Pmf(df_older.hour_of_day, label='Older')\n",
    "width = 0.45\n",
    "\n",
    "thinkplot.PrePlot(2, cols=2)\n",
    "thinkplot.Hist(younger_pmf, align='right', width=width)\n",
    "thinkplot.Hist(older_pmf, align='left', width=width)\n",
    "thinkplot.Config(xlabel='Hour of Day',ylabel='Probability',axis=[0, 24, 0, 0.1])\n",
    "\n",
    "thinkplot.PrePlot(2)\n",
    "thinkplot.SubPlot(2)\n",
    "thinkplot.Pmfs([younger_pmf, older_pmf])\n",
    "thinkplot.Show(xlabel='Hour of Day',axis=[0, 24, 0, 0.1])"
   ]
  },
  {
   "cell_type": "markdown",
   "metadata": {},
   "source": [
    "The PMF comparing younger and older drivers shows a higher probability of crashes for younger drivers between the hours of 9PM and 4 AM and higher probability for older drivers between the hours of 7 AM and 2 PM."
   ]
  },
  {
   "cell_type": "markdown",
   "metadata": {},
   "source": [
    "### Hypothesis 1: There is a relationship between vehicle type and the presence of (fatal) injuries in the data."
   ]
  },
  {
   "cell_type": "code",
   "execution_count": 31,
   "metadata": {},
   "outputs": [],
   "source": [
    "# create dummy variables for regression\n",
    "\n",
    "# vehicle type\n",
    "df['veh_type_heavytruck'] = np.where(df['heavy_truck_count'] >= 1, 1, 0)\n",
    "df['veh_type_smalltruck'] = np.where(df['small_truck_count'] >= 1, 1, 0)\n",
    "df['veh_type_suv'] = np.where(df['suv_count'] >= 1, 1, 0)\n",
    "df['veh_type_van'] = np.where(df['van_count'] >= 1, 1, 0)\n",
    "df['veh_type_motorcycle'] = np.where(df['motorcycle_count'] >= 1, 1, 0)\n",
    "df['veh_type_bicycle'] = np.where(df['bicycle_count'] >= 1, 1, 0)\n",
    "\n",
    "# injury type\n",
    "df['injury_major'] = np.where(df['maj_inj_count'] >= 1, 1, 0)\n",
    "df['injury_moderate'] = np.where(df['mod_inj_count'] >= 1, 1, 0)\n",
    "df['injury_minor'] = np.where(df['min_inj_count'] >= 1, 1, 0)\n",
    "df['injury_total'] = (df['tot_inj_count'])\n",
    "df['injury_fatal'] = np.where(df['fatal_count'] >= 1, 1, 0)\n"
   ]
  },
  {
   "cell_type": "code",
   "execution_count": null,
   "metadata": {},
   "outputs": [],
   "source": [
    "#  data is set up for hyp 1\n",
    "'veh_type_heavytruck', 'veh_type_suv', 'veh_type_motorcycle', 'veh_type_smalltruck', 'veh_type_van', 'veh_type_bicycle', \n",
    "'injury_major', 'injury_moderate', 'injury_minor', 'injury_total', 'injury_fatal'\n"
   ]
  },
  {
   "cell_type": "code",
   "execution_count": 32,
   "metadata": {},
   "outputs": [
    {
     "name": "stdout",
     "output_type": "stream",
     "text": [
      "Optimization terminated successfully.\n",
      "         Current function value: 0.046367\n",
      "         Iterations 5\n"
     ]
    },
    {
     "data": {
      "text/html": [
       "<table class=\"simpletable\">\n",
       "<caption>Poisson Regression Results</caption>\n",
       "<tr>\n",
       "  <th>Dep. Variable:</th>     <td>injury_fatal</td>   <th>  No. Observations:  </th>  <td> 77462</td>  \n",
       "</tr>\n",
       "<tr>\n",
       "  <th>Model:</th>                <td>Poisson</td>     <th>  Df Residuals:      </th>  <td> 77457</td>  \n",
       "</tr>\n",
       "<tr>\n",
       "  <th>Method:</th>                 <td>MLE</td>       <th>  Df Model:          </th>  <td>     4</td>  \n",
       "</tr>\n",
       "<tr>\n",
       "  <th>Date:</th>            <td>Fri, 28 Feb 2020</td> <th>  Pseudo R-squ.:     </th> <td>0.004629</td> \n",
       "</tr>\n",
       "<tr>\n",
       "  <th>Time:</th>                <td>19:36:07</td>     <th>  Log-Likelihood:    </th> <td> -3591.7</td> \n",
       "</tr>\n",
       "<tr>\n",
       "  <th>converged:</th>             <td>True</td>       <th>  LL-Null:           </th> <td> -3608.4</td> \n",
       "</tr>\n",
       "<tr>\n",
       "  <th>Covariance Type:</th>     <td>nonrobust</td>    <th>  LLR p-value:       </th> <td>9.867e-07</td>\n",
       "</tr>\n",
       "</table>\n",
       "<table class=\"simpletable\">\n",
       "<tr>\n",
       "           <td></td>              <th>coef</th>     <th>std err</th>      <th>z</th>      <th>P>|z|</th>  <th>[0.025</th>    <th>0.975]</th>  \n",
       "</tr>\n",
       "<tr>\n",
       "  <th>Intercept</th>           <td>   -4.6619</td> <td>    0.052</td> <td>  -90.333</td> <td> 0.000</td> <td>   -4.763</td> <td>   -4.561</td>\n",
       "</tr>\n",
       "<tr>\n",
       "  <th>veh_type_heavytruck</th> <td>    0.2110</td> <td>    0.188</td> <td>    1.125</td> <td> 0.260</td> <td>   -0.157</td> <td>    0.579</td>\n",
       "</tr>\n",
       "<tr>\n",
       "  <th>veh_type_suv</th>        <td>   -0.4117</td> <td>    0.094</td> <td>   -4.390</td> <td> 0.000</td> <td>   -0.595</td> <td>   -0.228</td>\n",
       "</tr>\n",
       "<tr>\n",
       "  <th>veh_type_smalltruck</th> <td>   -0.5104</td> <td>    0.154</td> <td>   -3.323</td> <td> 0.001</td> <td>   -0.811</td> <td>   -0.209</td>\n",
       "</tr>\n",
       "<tr>\n",
       "  <th>veh_type_van</th>        <td>   -0.1104</td> <td>    0.131</td> <td>   -0.846</td> <td> 0.398</td> <td>   -0.366</td> <td>    0.145</td>\n",
       "</tr>\n",
       "</table>"
      ],
      "text/plain": [
       "<class 'statsmodels.iolib.summary.Summary'>\n",
       "\"\"\"\n",
       "                          Poisson Regression Results                          \n",
       "==============================================================================\n",
       "Dep. Variable:           injury_fatal   No. Observations:                77462\n",
       "Model:                        Poisson   Df Residuals:                    77457\n",
       "Method:                           MLE   Df Model:                            4\n",
       "Date:                Fri, 28 Feb 2020   Pseudo R-squ.:                0.004629\n",
       "Time:                        19:36:07   Log-Likelihood:                -3591.7\n",
       "converged:                       True   LL-Null:                       -3608.4\n",
       "Covariance Type:            nonrobust   LLR p-value:                 9.867e-07\n",
       "=======================================================================================\n",
       "                          coef    std err          z      P>|z|      [0.025      0.975]\n",
       "---------------------------------------------------------------------------------------\n",
       "Intercept              -4.6619      0.052    -90.333      0.000      -4.763      -4.561\n",
       "veh_type_heavytruck     0.2110      0.188      1.125      0.260      -0.157       0.579\n",
       "veh_type_suv           -0.4117      0.094     -4.390      0.000      -0.595      -0.228\n",
       "veh_type_smalltruck    -0.5104      0.154     -3.323      0.001      -0.811      -0.209\n",
       "veh_type_van           -0.1104      0.131     -0.846      0.398      -0.366       0.145\n",
       "=======================================================================================\n",
       "\"\"\""
      ]
     },
     "execution_count": 32,
     "metadata": {},
     "output_type": "execute_result"
    }
   ],
   "source": [
    "# Regression formula with fatal injury as dependent (endogenous) and vehicle types as independent (exogenous)\n",
    "formula='injury_fatal ~ veh_type_heavytruck + veh_type_suv + veh_type_smalltruck + veh_type_van'\n",
    "\n",
    "# Using poisson regression\n",
    "model = smf.poisson(formula, data=df)\n",
    "\n",
    "# Use fit method to fit the model to the data and return regression result\n",
    "results = model.fit()\n",
    "\n",
    "# Output a summary of the regression results\n",
    "results.summary() "
   ]
  },
  {
   "cell_type": "markdown",
   "metadata": {},
   "source": [
    "The results above indicate that SUVs and Small Trucks are significant in the relationship to fatalities resulting from a crash.  However, the coefficients for each are negative, which tells us that the likelihood of a fatality in the crash is reduced if the vehicles involved are SUVs or Small Trucks.\n",
    "\n",
    "The pseudo R-squared is very small which tells us vehicle type does not explain the variation in the occurrence of fatalities."
   ]
  },
  {
   "cell_type": "code",
   "execution_count": 33,
   "metadata": {},
   "outputs": [
    {
     "name": "stdout",
     "output_type": "stream",
     "text": [
      "Optimization terminated successfully.\n",
      "         Current function value: 0.044802\n",
      "         Iterations 10\n"
     ]
    },
    {
     "data": {
      "text/html": [
       "<table class=\"simpletable\">\n",
       "<caption>Poisson Regression Results</caption>\n",
       "<tr>\n",
       "  <th>Dep. Variable:</th>     <td>injury_fatal</td>   <th>  No. Observations:  </th>  <td> 77462</td>  \n",
       "</tr>\n",
       "<tr>\n",
       "  <th>Model:</th>                <td>Poisson</td>     <th>  Df Residuals:      </th>  <td> 77455</td>  \n",
       "</tr>\n",
       "<tr>\n",
       "  <th>Method:</th>                 <td>MLE</td>       <th>  Df Model:          </th>  <td>     6</td>  \n",
       "</tr>\n",
       "<tr>\n",
       "  <th>Date:</th>            <td>Fri, 28 Feb 2020</td> <th>  Pseudo R-squ.:     </th>  <td>0.03825</td> \n",
       "</tr>\n",
       "<tr>\n",
       "  <th>Time:</th>                <td>19:36:11</td>     <th>  Log-Likelihood:    </th> <td> -3470.4</td> \n",
       "</tr>\n",
       "<tr>\n",
       "  <th>converged:</th>             <td>True</td>       <th>  LL-Null:           </th> <td> -3608.4</td> \n",
       "</tr>\n",
       "<tr>\n",
       "  <th>Covariance Type:</th>     <td>nonrobust</td>    <th>  LLR p-value:       </th> <td>1.121e-56</td>\n",
       "</tr>\n",
       "</table>\n",
       "<table class=\"simpletable\">\n",
       "<tr>\n",
       "           <td></td>              <th>coef</th>     <th>std err</th>      <th>z</th>      <th>P>|z|</th>  <th>[0.025</th>    <th>0.975]</th>  \n",
       "</tr>\n",
       "<tr>\n",
       "  <th>Intercept</th>           <td>   -4.8837</td> <td>    0.059</td> <td>  -83.292</td> <td> 0.000</td> <td>   -4.999</td> <td>   -4.769</td>\n",
       "</tr>\n",
       "<tr>\n",
       "  <th>veh_type_heavytruck</th> <td>    0.3320</td> <td>    0.188</td> <td>    1.766</td> <td> 0.077</td> <td>   -0.037</td> <td>    0.701</td>\n",
       "</tr>\n",
       "<tr>\n",
       "  <th>veh_type_suv</th>        <td>   -0.2801</td> <td>    0.095</td> <td>   -2.949</td> <td> 0.003</td> <td>   -0.466</td> <td>   -0.094</td>\n",
       "</tr>\n",
       "<tr>\n",
       "  <th>veh_type_smalltruck</th> <td>   -0.3983</td> <td>    0.154</td> <td>   -2.584</td> <td> 0.010</td> <td>   -0.700</td> <td>   -0.096</td>\n",
       "</tr>\n",
       "<tr>\n",
       "  <th>veh_type_van</th>        <td>   -0.0112</td> <td>    0.131</td> <td>   -0.086</td> <td> 0.932</td> <td>   -0.268</td> <td>    0.246</td>\n",
       "</tr>\n",
       "<tr>\n",
       "  <th>veh_type_motorcycle</th> <td>    2.0459</td> <td>    0.107</td> <td>   19.106</td> <td> 0.000</td> <td>    1.836</td> <td>    2.256</td>\n",
       "</tr>\n",
       "<tr>\n",
       "  <th>veh_type_bicycle</th>    <td>   -0.1748</td> <td>    0.218</td> <td>   -0.801</td> <td> 0.423</td> <td>   -0.603</td> <td>    0.253</td>\n",
       "</tr>\n",
       "</table>"
      ],
      "text/plain": [
       "<class 'statsmodels.iolib.summary.Summary'>\n",
       "\"\"\"\n",
       "                          Poisson Regression Results                          \n",
       "==============================================================================\n",
       "Dep. Variable:           injury_fatal   No. Observations:                77462\n",
       "Model:                        Poisson   Df Residuals:                    77455\n",
       "Method:                           MLE   Df Model:                            6\n",
       "Date:                Fri, 28 Feb 2020   Pseudo R-squ.:                 0.03825\n",
       "Time:                        19:36:11   Log-Likelihood:                -3470.4\n",
       "converged:                       True   LL-Null:                       -3608.4\n",
       "Covariance Type:            nonrobust   LLR p-value:                 1.121e-56\n",
       "=======================================================================================\n",
       "                          coef    std err          z      P>|z|      [0.025      0.975]\n",
       "---------------------------------------------------------------------------------------\n",
       "Intercept              -4.8837      0.059    -83.292      0.000      -4.999      -4.769\n",
       "veh_type_heavytruck     0.3320      0.188      1.766      0.077      -0.037       0.701\n",
       "veh_type_suv           -0.2801      0.095     -2.949      0.003      -0.466      -0.094\n",
       "veh_type_smalltruck    -0.3983      0.154     -2.584      0.010      -0.700      -0.096\n",
       "veh_type_van           -0.0112      0.131     -0.086      0.932      -0.268       0.246\n",
       "veh_type_motorcycle     2.0459      0.107     19.106      0.000       1.836       2.256\n",
       "veh_type_bicycle       -0.1748      0.218     -0.801      0.423      -0.603       0.253\n",
       "=======================================================================================\n",
       "\"\"\""
      ]
     },
     "execution_count": 33,
     "metadata": {},
     "output_type": "execute_result"
    }
   ],
   "source": [
    "# Regression formula with fatal injury as dependent (endogenous) and vehicle types as independent (exogenous)\n",
    "# adding in motorcycle and bicylce vehicles to formula\n",
    "formula='injury_fatal ~ veh_type_heavytruck + veh_type_suv + veh_type_smalltruck + veh_type_van + veh_type_motorcycle + veh_type_bicycle'\n",
    "\n",
    "# Using poisson regression\n",
    "model = smf.poisson(formula, data=df)\n",
    "\n",
    "# Use fit method to fit the model to the data and return regression result\n",
    "results = model.fit()\n",
    "\n",
    "# Output a summary of the regression results\n",
    "results.summary() "
   ]
  },
  {
   "cell_type": "markdown",
   "metadata": {},
   "source": [
    "Adding Motorcyles and Bicycles to the formula: no change for SUVs and Small Trucks, however Heavy Trucks are now significant at a 0.1 level, and the coefficient is positive.  While not significant at our .05 level, it does indicate a stronger relationship between Heavy Trucks and fatalities.  Motorcycles are significant (<.05) and have a positive coefficient as well. This may be telling us that the combination of Heavy Trucks and Motorcycles in a crash is related to fatalities.\n",
    "\n",
    "The pseudo R-squared is very small which tells us vehicle type does not explain the variation in the occurrence of fatalities."
   ]
  },
  {
   "cell_type": "code",
   "execution_count": 34,
   "metadata": {},
   "outputs": [
    {
     "name": "stdout",
     "output_type": "stream",
     "text": [
      "Optimization terminated successfully.\n",
      "         Current function value: 0.044765\n",
      "         Iterations 10\n"
     ]
    },
    {
     "data": {
      "text/html": [
       "<table class=\"simpletable\">\n",
       "<caption>Poisson Regression Results</caption>\n",
       "<tr>\n",
       "  <th>Dep. Variable:</th>     <td>injury_fatal</td>   <th>  No. Observations:  </th>  <td> 77462</td>  \n",
       "</tr>\n",
       "<tr>\n",
       "  <th>Model:</th>                <td>Poisson</td>     <th>  Df Residuals:      </th>  <td> 77454</td>  \n",
       "</tr>\n",
       "<tr>\n",
       "  <th>Method:</th>                 <td>MLE</td>       <th>  Df Model:          </th>  <td>     7</td>  \n",
       "</tr>\n",
       "<tr>\n",
       "  <th>Date:</th>            <td>Fri, 28 Feb 2020</td> <th>  Pseudo R-squ.:     </th>  <td>0.03902</td> \n",
       "</tr>\n",
       "<tr>\n",
       "  <th>Time:</th>                <td>19:36:15</td>     <th>  Log-Likelihood:    </th> <td> -3467.6</td> \n",
       "</tr>\n",
       "<tr>\n",
       "  <th>converged:</th>             <td>True</td>       <th>  LL-Null:           </th> <td> -3608.4</td> \n",
       "</tr>\n",
       "<tr>\n",
       "  <th>Covariance Type:</th>     <td>nonrobust</td>    <th>  LLR p-value:       </th> <td>5.057e-57</td>\n",
       "</tr>\n",
       "</table>\n",
       "<table class=\"simpletable\">\n",
       "<tr>\n",
       "           <td></td>              <th>coef</th>     <th>std err</th>      <th>z</th>      <th>P>|z|</th>  <th>[0.025</th>    <th>0.975]</th>  \n",
       "</tr>\n",
       "<tr>\n",
       "  <th>Intercept</th>           <td>   -4.9149</td> <td>    0.060</td> <td>  -81.658</td> <td> 0.000</td> <td>   -5.033</td> <td>   -4.797</td>\n",
       "</tr>\n",
       "<tr>\n",
       "  <th>unbelted_occ_count</th>  <td>    0.1411</td> <td>    0.055</td> <td>    2.575</td> <td> 0.010</td> <td>    0.034</td> <td>    0.249</td>\n",
       "</tr>\n",
       "<tr>\n",
       "  <th>veh_type_heavytruck</th> <td>    0.3280</td> <td>    0.188</td> <td>    1.744</td> <td> 0.081</td> <td>   -0.041</td> <td>    0.697</td>\n",
       "</tr>\n",
       "<tr>\n",
       "  <th>veh_type_suv</th>        <td>   -0.2853</td> <td>    0.095</td> <td>   -3.003</td> <td> 0.003</td> <td>   -0.472</td> <td>   -0.099</td>\n",
       "</tr>\n",
       "<tr>\n",
       "  <th>veh_type_smalltruck</th> <td>   -0.4036</td> <td>    0.154</td> <td>   -2.618</td> <td> 0.009</td> <td>   -0.706</td> <td>   -0.101</td>\n",
       "</tr>\n",
       "<tr>\n",
       "  <th>veh_type_van</th>        <td>   -0.0246</td> <td>    0.131</td> <td>   -0.188</td> <td> 0.851</td> <td>   -0.282</td> <td>    0.233</td>\n",
       "</tr>\n",
       "<tr>\n",
       "  <th>veh_type_motorcycle</th> <td>    2.0602</td> <td>    0.107</td> <td>   19.209</td> <td> 0.000</td> <td>    1.850</td> <td>    2.270</td>\n",
       "</tr>\n",
       "<tr>\n",
       "  <th>veh_type_bicycle</th>    <td>   -0.1680</td> <td>    0.218</td> <td>   -0.769</td> <td> 0.442</td> <td>   -0.596</td> <td>    0.260</td>\n",
       "</tr>\n",
       "</table>"
      ],
      "text/plain": [
       "<class 'statsmodels.iolib.summary.Summary'>\n",
       "\"\"\"\n",
       "                          Poisson Regression Results                          \n",
       "==============================================================================\n",
       "Dep. Variable:           injury_fatal   No. Observations:                77462\n",
       "Model:                        Poisson   Df Residuals:                    77454\n",
       "Method:                           MLE   Df Model:                            7\n",
       "Date:                Fri, 28 Feb 2020   Pseudo R-squ.:                 0.03902\n",
       "Time:                        19:36:15   Log-Likelihood:                -3467.6\n",
       "converged:                       True   LL-Null:                       -3608.4\n",
       "Covariance Type:            nonrobust   LLR p-value:                 5.057e-57\n",
       "=======================================================================================\n",
       "                          coef    std err          z      P>|z|      [0.025      0.975]\n",
       "---------------------------------------------------------------------------------------\n",
       "Intercept              -4.9149      0.060    -81.658      0.000      -5.033      -4.797\n",
       "unbelted_occ_count      0.1411      0.055      2.575      0.010       0.034       0.249\n",
       "veh_type_heavytruck     0.3280      0.188      1.744      0.081      -0.041       0.697\n",
       "veh_type_suv           -0.2853      0.095     -3.003      0.003      -0.472      -0.099\n",
       "veh_type_smalltruck    -0.4036      0.154     -2.618      0.009      -0.706      -0.101\n",
       "veh_type_van           -0.0246      0.131     -0.188      0.851      -0.282       0.233\n",
       "veh_type_motorcycle     2.0602      0.107     19.209      0.000       1.850       2.270\n",
       "veh_type_bicycle       -0.1680      0.218     -0.769      0.442      -0.596       0.260\n",
       "=======================================================================================\n",
       "\"\"\""
      ]
     },
     "execution_count": 34,
     "metadata": {},
     "output_type": "execute_result"
    }
   ],
   "source": [
    "# Regression formula with fatal injury as dependent (endogenous) and vehicle types as independent (exogenous)\n",
    "# adding in motorcycle and bicylce vehicles to formula\n",
    "formula='injury_fatal ~ unbelted_occ_count + veh_type_heavytruck + veh_type_suv + veh_type_smalltruck + veh_type_van + veh_type_motorcycle + veh_type_bicycle'\n",
    "\n",
    "# Using poisson regression\n",
    "model = smf.poisson(formula, data=df)\n",
    "\n",
    "# Use fit method to fit the model to the data and return regression result\n",
    "results = model.fit()\n",
    "\n",
    "# Output a summary of the regression results\n",
    "results.summary() "
   ]
  },
  {
   "cell_type": "markdown",
   "metadata": {},
   "source": [
    "Using the same formula and adding in 'unbelted occupants' we see the following:\n",
    "Unbelted occupants is significant and positive (unbelted occupants is positively related to fatality) and the pseudo R-squared is slightly higher which either indicates a little more of the variation is explained, or it increased because we added another explanatory variable."
   ]
  },
  {
   "cell_type": "code",
   "execution_count": 36,
   "metadata": {},
   "outputs": [
    {
     "name": "stdout",
     "output_type": "stream",
     "text": [
      "Optimization terminated successfully.\n",
      "         Current function value: 1.295875\n",
      "         Iterations 4\n"
     ]
    },
    {
     "data": {
      "text/html": [
       "<table class=\"simpletable\">\n",
       "<caption>Poisson Regression Results</caption>\n",
       "<tr>\n",
       "  <th>Dep. Variable:</th>     <td>injury_count</td>   <th>  No. Observations:  </th>   <td> 77462</td>   \n",
       "</tr>\n",
       "<tr>\n",
       "  <th>Model:</th>                <td>Poisson</td>     <th>  Df Residuals:      </th>   <td> 77457</td>   \n",
       "</tr>\n",
       "<tr>\n",
       "  <th>Method:</th>                 <td>MLE</td>       <th>  Df Model:          </th>   <td>     4</td>   \n",
       "</tr>\n",
       "<tr>\n",
       "  <th>Date:</th>            <td>Fri, 28 Feb 2020</td> <th>  Pseudo R-squ.:     </th>  <td>0.001183</td>  \n",
       "</tr>\n",
       "<tr>\n",
       "  <th>Time:</th>                <td>19:36:35</td>     <th>  Log-Likelihood:    </th> <td>-1.0038e+05</td>\n",
       "</tr>\n",
       "<tr>\n",
       "  <th>converged:</th>             <td>True</td>       <th>  LL-Null:           </th> <td>-1.0050e+05</td>\n",
       "</tr>\n",
       "<tr>\n",
       "  <th>Covariance Type:</th>     <td>nonrobust</td>    <th>  LLR p-value:       </th>  <td>2.903e-50</td> \n",
       "</tr>\n",
       "</table>\n",
       "<table class=\"simpletable\">\n",
       "<tr>\n",
       "           <td></td>              <th>coef</th>     <th>std err</th>      <th>z</th>      <th>P>|z|</th>  <th>[0.025</th>    <th>0.975]</th>  \n",
       "</tr>\n",
       "<tr>\n",
       "  <th>Intercept</th>           <td>    0.0255</td> <td>    0.005</td> <td>    5.248</td> <td> 0.000</td> <td>    0.016</td> <td>    0.035</td>\n",
       "</tr>\n",
       "<tr>\n",
       "  <th>veh_type_heavytruck</th> <td>   -0.0918</td> <td>    0.019</td> <td>   -4.730</td> <td> 0.000</td> <td>   -0.130</td> <td>   -0.054</td>\n",
       "</tr>\n",
       "<tr>\n",
       "  <th>veh_type_suv</th>        <td>    0.0509</td> <td>    0.007</td> <td>    6.836</td> <td> 0.000</td> <td>    0.036</td> <td>    0.065</td>\n",
       "</tr>\n",
       "<tr>\n",
       "  <th>veh_type_smalltruck</th> <td>    0.0003</td> <td>    0.011</td> <td>    0.029</td> <td> 0.977</td> <td>   -0.021</td> <td>    0.022</td>\n",
       "</tr>\n",
       "<tr>\n",
       "  <th>veh_type_van</th>        <td>    0.1398</td> <td>    0.011</td> <td>   13.304</td> <td> 0.000</td> <td>    0.119</td> <td>    0.160</td>\n",
       "</tr>\n",
       "</table>"
      ],
      "text/plain": [
       "<class 'statsmodels.iolib.summary.Summary'>\n",
       "\"\"\"\n",
       "                          Poisson Regression Results                          \n",
       "==============================================================================\n",
       "Dep. Variable:           injury_count   No. Observations:                77462\n",
       "Model:                        Poisson   Df Residuals:                    77457\n",
       "Method:                           MLE   Df Model:                            4\n",
       "Date:                Fri, 28 Feb 2020   Pseudo R-squ.:                0.001183\n",
       "Time:                        19:36:35   Log-Likelihood:            -1.0038e+05\n",
       "converged:                       True   LL-Null:                   -1.0050e+05\n",
       "Covariance Type:            nonrobust   LLR p-value:                 2.903e-50\n",
       "=======================================================================================\n",
       "                          coef    std err          z      P>|z|      [0.025      0.975]\n",
       "---------------------------------------------------------------------------------------\n",
       "Intercept               0.0255      0.005      5.248      0.000       0.016       0.035\n",
       "veh_type_heavytruck    -0.0918      0.019     -4.730      0.000      -0.130      -0.054\n",
       "veh_type_suv            0.0509      0.007      6.836      0.000       0.036       0.065\n",
       "veh_type_smalltruck     0.0003      0.011      0.029      0.977      -0.021       0.022\n",
       "veh_type_van            0.1398      0.011     13.304      0.000       0.119       0.160\n",
       "=======================================================================================\n",
       "\"\"\""
      ]
     },
     "execution_count": 36,
     "metadata": {},
     "output_type": "execute_result"
    }
   ],
   "source": [
    "# Regression formula with fatal injury as dependent (endogenous) and vehicle types as independent (exogenous)\n",
    "formula='injury_count ~ veh_type_heavytruck + veh_type_suv + veh_type_smalltruck + veh_type_van'\n",
    "\n",
    "# Using poisson regression\n",
    "model = smf.poisson(formula, data=df)\n",
    "\n",
    "# Use fit method to fit the model to the data and return regression result\n",
    "results = model.fit()\n",
    "\n",
    "# Output a summary of the regression results\n",
    "results.summary() "
   ]
  },
  {
   "cell_type": "code",
   "execution_count": 37,
   "metadata": {},
   "outputs": [
    {
     "name": "stdout",
     "output_type": "stream",
     "text": [
      "Optimization terminated successfully.\n",
      "         Current function value: 1.289961\n",
      "         Iterations 6\n"
     ]
    },
    {
     "data": {
      "text/html": [
       "<table class=\"simpletable\">\n",
       "<caption>Poisson Regression Results</caption>\n",
       "<tr>\n",
       "  <th>Dep. Variable:</th>     <td>injury_count</td>   <th>  No. Observations:  </th>   <td> 77462</td>   \n",
       "</tr>\n",
       "<tr>\n",
       "  <th>Model:</th>                <td>Poisson</td>     <th>  Df Residuals:      </th>   <td> 77454</td>   \n",
       "</tr>\n",
       "<tr>\n",
       "  <th>Method:</th>                 <td>MLE</td>       <th>  Df Model:          </th>   <td>     7</td>   \n",
       "</tr>\n",
       "<tr>\n",
       "  <th>Date:</th>            <td>Fri, 28 Feb 2020</td> <th>  Pseudo R-squ.:     </th>  <td>0.005740</td>  \n",
       "</tr>\n",
       "<tr>\n",
       "  <th>Time:</th>                <td>19:36:39</td>     <th>  Log-Likelihood:    </th>  <td> -99923.</td>  \n",
       "</tr>\n",
       "<tr>\n",
       "  <th>converged:</th>             <td>True</td>       <th>  LL-Null:           </th> <td>-1.0050e+05</td>\n",
       "</tr>\n",
       "<tr>\n",
       "  <th>Covariance Type:</th>     <td>nonrobust</td>    <th>  LLR p-value:       </th> <td>6.864e-245</td> \n",
       "</tr>\n",
       "</table>\n",
       "<table class=\"simpletable\">\n",
       "<tr>\n",
       "           <td></td>              <th>coef</th>     <th>std err</th>      <th>z</th>      <th>P>|z|</th>  <th>[0.025</th>    <th>0.975]</th>  \n",
       "</tr>\n",
       "<tr>\n",
       "  <th>Intercept</th>           <td>   -0.0056</td> <td>    0.005</td> <td>   -1.084</td> <td> 0.279</td> <td>   -0.016</td> <td>    0.005</td>\n",
       "</tr>\n",
       "<tr>\n",
       "  <th>unbelted_occ_count</th>  <td>    0.1447</td> <td>    0.004</td> <td>   33.203</td> <td> 0.000</td> <td>    0.136</td> <td>    0.153</td>\n",
       "</tr>\n",
       "<tr>\n",
       "  <th>veh_type_heavytruck</th> <td>   -0.0950</td> <td>    0.019</td> <td>   -4.891</td> <td> 0.000</td> <td>   -0.133</td> <td>   -0.057</td>\n",
       "</tr>\n",
       "<tr>\n",
       "  <th>veh_type_suv</th>        <td>    0.0458</td> <td>    0.007</td> <td>    6.113</td> <td> 0.000</td> <td>    0.031</td> <td>    0.060</td>\n",
       "</tr>\n",
       "<tr>\n",
       "  <th>veh_type_smalltruck</th> <td>   -0.0049</td> <td>    0.011</td> <td>   -0.442</td> <td> 0.658</td> <td>   -0.027</td> <td>    0.017</td>\n",
       "</tr>\n",
       "<tr>\n",
       "  <th>veh_type_van</th>        <td>    0.1247</td> <td>    0.011</td> <td>   11.825</td> <td> 0.000</td> <td>    0.104</td> <td>    0.145</td>\n",
       "</tr>\n",
       "<tr>\n",
       "  <th>veh_type_motorcycle</th> <td>    0.0249</td> <td>    0.022</td> <td>    1.121</td> <td> 0.262</td> <td>   -0.019</td> <td>    0.068</td>\n",
       "</tr>\n",
       "<tr>\n",
       "  <th>veh_type_bicycle</th>    <td>   -0.0214</td> <td>    0.017</td> <td>   -1.243</td> <td> 0.214</td> <td>   -0.055</td> <td>    0.012</td>\n",
       "</tr>\n",
       "</table>"
      ],
      "text/plain": [
       "<class 'statsmodels.iolib.summary.Summary'>\n",
       "\"\"\"\n",
       "                          Poisson Regression Results                          \n",
       "==============================================================================\n",
       "Dep. Variable:           injury_count   No. Observations:                77462\n",
       "Model:                        Poisson   Df Residuals:                    77454\n",
       "Method:                           MLE   Df Model:                            7\n",
       "Date:                Fri, 28 Feb 2020   Pseudo R-squ.:                0.005740\n",
       "Time:                        19:36:39   Log-Likelihood:                -99923.\n",
       "converged:                       True   LL-Null:                   -1.0050e+05\n",
       "Covariance Type:            nonrobust   LLR p-value:                6.864e-245\n",
       "=======================================================================================\n",
       "                          coef    std err          z      P>|z|      [0.025      0.975]\n",
       "---------------------------------------------------------------------------------------\n",
       "Intercept              -0.0056      0.005     -1.084      0.279      -0.016       0.005\n",
       "unbelted_occ_count      0.1447      0.004     33.203      0.000       0.136       0.153\n",
       "veh_type_heavytruck    -0.0950      0.019     -4.891      0.000      -0.133      -0.057\n",
       "veh_type_suv            0.0458      0.007      6.113      0.000       0.031       0.060\n",
       "veh_type_smalltruck    -0.0049      0.011     -0.442      0.658      -0.027       0.017\n",
       "veh_type_van            0.1247      0.011     11.825      0.000       0.104       0.145\n",
       "veh_type_motorcycle     0.0249      0.022      1.121      0.262      -0.019       0.068\n",
       "veh_type_bicycle       -0.0214      0.017     -1.243      0.214      -0.055       0.012\n",
       "=======================================================================================\n",
       "\"\"\""
      ]
     },
     "execution_count": 37,
     "metadata": {},
     "output_type": "execute_result"
    }
   ],
   "source": [
    "# Regression formula with fatal injury as dependent (endogenous) and vehicle types as independent (exogenous)\n",
    "formula='injury_count ~ unbelted_occ_count + veh_type_heavytruck + veh_type_suv + veh_type_smalltruck + veh_type_van + veh_type_motorcycle + veh_type_bicycle'\n",
    "\n",
    "# Using poisson regression\n",
    "model = smf.poisson(formula, data=df)\n",
    "\n",
    "# Use fit method to fit the model to the data and return regression result\n",
    "results = model.fit()\n",
    "\n",
    "# Output a summary of the regression results\n",
    "results.summary() \n",
    "\n",
    "\n"
   ]
  },
  {
   "cell_type": "markdown",
   "metadata": {},
   "source": [
    "Regression with injury count as the dependent reveals a significant and positive relationship between unbelted occupants and SUV and Van vehicle types.  This indicates there are more injuries when vans and SUVs are involved in a crash, especially when the occupants are unbelted."
   ]
  },
  {
   "cell_type": "code",
   "execution_count": 38,
   "metadata": {},
   "outputs": [
    {
     "name": "stdout",
     "output_type": "stream",
     "text": [
      "Optimization terminated successfully.\n",
      "         Current function value: 0.117137\n",
      "         Iterations 8\n"
     ]
    },
    {
     "data": {
      "text/html": [
       "<table class=\"simpletable\">\n",
       "<caption>Poisson Regression Results</caption>\n",
       "<tr>\n",
       "  <th>Dep. Variable:</th>     <td>maj_inj_count</td>  <th>  No. Observations:  </th>  <td> 77462</td>  \n",
       "</tr>\n",
       "<tr>\n",
       "  <th>Model:</th>                <td>Poisson</td>     <th>  Df Residuals:      </th>  <td> 77454</td>  \n",
       "</tr>\n",
       "<tr>\n",
       "  <th>Method:</th>                 <td>MLE</td>       <th>  Df Model:          </th>  <td>     7</td>  \n",
       "</tr>\n",
       "<tr>\n",
       "  <th>Date:</th>            <td>Fri, 28 Feb 2020</td> <th>  Pseudo R-squ.:     </th>  <td>0.01657</td> \n",
       "</tr>\n",
       "<tr>\n",
       "  <th>Time:</th>                <td>19:36:42</td>     <th>  Log-Likelihood:    </th> <td> -9073.7</td> \n",
       "</tr>\n",
       "<tr>\n",
       "  <th>converged:</th>             <td>True</td>       <th>  LL-Null:           </th> <td> -9226.6</td> \n",
       "</tr>\n",
       "<tr>\n",
       "  <th>Covariance Type:</th>     <td>nonrobust</td>    <th>  LLR p-value:       </th> <td>3.500e-62</td>\n",
       "</tr>\n",
       "</table>\n",
       "<table class=\"simpletable\">\n",
       "<tr>\n",
       "           <td></td>              <th>coef</th>     <th>std err</th>      <th>z</th>      <th>P>|z|</th>  <th>[0.025</th>    <th>0.975]</th>  \n",
       "</tr>\n",
       "<tr>\n",
       "  <th>Intercept</th>           <td>   -3.8114</td> <td>    0.034</td> <td> -112.134</td> <td> 0.000</td> <td>   -3.878</td> <td>   -3.745</td>\n",
       "</tr>\n",
       "<tr>\n",
       "  <th>unbelted_occ_count</th>  <td>    0.2187</td> <td>    0.024</td> <td>    8.992</td> <td> 0.000</td> <td>    0.171</td> <td>    0.266</td>\n",
       "</tr>\n",
       "<tr>\n",
       "  <th>veh_type_heavytruck</th> <td>    0.2485</td> <td>    0.110</td> <td>    2.269</td> <td> 0.023</td> <td>    0.034</td> <td>    0.463</td>\n",
       "</tr>\n",
       "<tr>\n",
       "  <th>veh_type_suv</th>        <td>   -0.0932</td> <td>    0.051</td> <td>   -1.834</td> <td> 0.067</td> <td>   -0.193</td> <td>    0.006</td>\n",
       "</tr>\n",
       "<tr>\n",
       "  <th>veh_type_smalltruck</th> <td>   -0.0702</td> <td>    0.075</td> <td>   -0.933</td> <td> 0.351</td> <td>   -0.218</td> <td>    0.077</td>\n",
       "</tr>\n",
       "<tr>\n",
       "  <th>veh_type_van</th>        <td>    0.0565</td> <td>    0.071</td> <td>    0.793</td> <td> 0.428</td> <td>   -0.083</td> <td>    0.196</td>\n",
       "</tr>\n",
       "<tr>\n",
       "  <th>veh_type_motorcycle</th> <td>    1.4316</td> <td>    0.078</td> <td>   18.410</td> <td> 0.000</td> <td>    1.279</td> <td>    1.584</td>\n",
       "</tr>\n",
       "<tr>\n",
       "  <th>veh_type_bicycle</th>    <td>    0.1166</td> <td>    0.108</td> <td>    1.084</td> <td> 0.278</td> <td>   -0.094</td> <td>    0.327</td>\n",
       "</tr>\n",
       "</table>"
      ],
      "text/plain": [
       "<class 'statsmodels.iolib.summary.Summary'>\n",
       "\"\"\"\n",
       "                          Poisson Regression Results                          \n",
       "==============================================================================\n",
       "Dep. Variable:          maj_inj_count   No. Observations:                77462\n",
       "Model:                        Poisson   Df Residuals:                    77454\n",
       "Method:                           MLE   Df Model:                            7\n",
       "Date:                Fri, 28 Feb 2020   Pseudo R-squ.:                 0.01657\n",
       "Time:                        19:36:42   Log-Likelihood:                -9073.7\n",
       "converged:                       True   LL-Null:                       -9226.6\n",
       "Covariance Type:            nonrobust   LLR p-value:                 3.500e-62\n",
       "=======================================================================================\n",
       "                          coef    std err          z      P>|z|      [0.025      0.975]\n",
       "---------------------------------------------------------------------------------------\n",
       "Intercept              -3.8114      0.034   -112.134      0.000      -3.878      -3.745\n",
       "unbelted_occ_count      0.2187      0.024      8.992      0.000       0.171       0.266\n",
       "veh_type_heavytruck     0.2485      0.110      2.269      0.023       0.034       0.463\n",
       "veh_type_suv           -0.0932      0.051     -1.834      0.067      -0.193       0.006\n",
       "veh_type_smalltruck    -0.0702      0.075     -0.933      0.351      -0.218       0.077\n",
       "veh_type_van            0.0565      0.071      0.793      0.428      -0.083       0.196\n",
       "veh_type_motorcycle     1.4316      0.078     18.410      0.000       1.279       1.584\n",
       "veh_type_bicycle        0.1166      0.108      1.084      0.278      -0.094       0.327\n",
       "=======================================================================================\n",
       "\"\"\""
      ]
     },
     "execution_count": 38,
     "metadata": {},
     "output_type": "execute_result"
    }
   ],
   "source": [
    "# Regression formula with fatal injury as dependent (endogenous) and vehicle types as independent (exogenous)\n",
    "formula='maj_inj_count ~ unbelted_occ_count + veh_type_heavytruck + veh_type_suv + veh_type_smalltruck + veh_type_van + veh_type_motorcycle + veh_type_bicycle'\n",
    "\n",
    "# Using poisson regression\n",
    "model = smf.poisson(formula, data=df)\n",
    "\n",
    "# Use fit method to fit the model to the data and return regression result\n",
    "results = model.fit()\n",
    "\n",
    "# Output a summary of the regression results\n",
    "results.summary() "
   ]
  },
  {
   "cell_type": "markdown",
   "metadata": {},
   "source": [
    "When isolating the dependent variable to 'major' injuries, heavy truck and motorcycles are significant as well as unbelted occupants."
   ]
  },
  {
   "cell_type": "markdown",
   "metadata": {},
   "source": [
    "### Hypothesis 2: Certain age brackets for drivers are impacted to a greater degree by weather or road conditions."
   ]
  },
  {
   "cell_type": "code",
   "execution_count": 39,
   "metadata": {},
   "outputs": [],
   "source": [
    "# create dummy variables for regression\n",
    "\n",
    "# weather type\n",
    "df['weather_rain'] = np.where(df['weather'] == 2,1,0)\n",
    "df['weather_sleet_hail'] = np.where(df['weather'] == 3,1,0)\n",
    "df['weather_snow'] = np.where(df['weather'] == 4,1,0)\n",
    "df['weather_fog'] = np.where(df['weather'] == 5,1,0)\n",
    "df['weather_rain_fog'] = np.where(df['weather'] == 6,1,0)\n",
    "df['weather_sleet_fog'] = np.where(df['weather'] == 7,1,0)"
   ]
  },
  {
   "cell_type": "code",
   "execution_count": null,
   "metadata": {},
   "outputs": [],
   "source": [
    "# data is set up for hyp 2\n",
    "'younger', 'older' \n",
    "'weather_rain', 'weather_sleet_hail', 'weather_snow', 'weather_fog', 'weather_rain_fog', 'weather_sleet_fog'"
   ]
  },
  {
   "cell_type": "code",
   "execution_count": 40,
   "metadata": {},
   "outputs": [
    {
     "name": "stdout",
     "output_type": "stream",
     "text": [
      "Optimization terminated successfully.\n",
      "         Current function value: 0.320841\n",
      "         Iterations 5\n"
     ]
    },
    {
     "data": {
      "text/html": [
       "<table class=\"simpletable\">\n",
       "<caption>Poisson Regression Results</caption>\n",
       "<tr>\n",
       "  <th>Dep. Variable:</th>        <td>younger</td>     <th>  No. Observations:  </th>  <td> 77462</td>  \n",
       "</tr>\n",
       "<tr>\n",
       "  <th>Model:</th>                <td>Poisson</td>     <th>  Df Residuals:      </th>  <td> 77455</td>  \n",
       "</tr>\n",
       "<tr>\n",
       "  <th>Method:</th>                 <td>MLE</td>       <th>  Df Model:          </th>  <td>     6</td>  \n",
       "</tr>\n",
       "<tr>\n",
       "  <th>Date:</th>            <td>Fri, 28 Feb 2020</td> <th>  Pseudo R-squ.:     </th> <td>0.0003016</td>\n",
       "</tr>\n",
       "<tr>\n",
       "  <th>Time:</th>                <td>19:36:49</td>     <th>  Log-Likelihood:    </th> <td> -24853.</td> \n",
       "</tr>\n",
       "<tr>\n",
       "  <th>converged:</th>             <td>True</td>       <th>  LL-Null:           </th> <td> -24860.</td> \n",
       "</tr>\n",
       "<tr>\n",
       "  <th>Covariance Type:</th>     <td>nonrobust</td>    <th>  LLR p-value:       </th>  <td>0.02027</td> \n",
       "</tr>\n",
       "</table>\n",
       "<table class=\"simpletable\">\n",
       "<tr>\n",
       "           <td></td>             <th>coef</th>     <th>std err</th>      <th>z</th>      <th>P>|z|</th>  <th>[0.025</th>    <th>0.975]</th>  \n",
       "</tr>\n",
       "<tr>\n",
       "  <th>Intercept</th>          <td>   -2.3687</td> <td>    0.013</td> <td> -184.989</td> <td> 0.000</td> <td>   -2.394</td> <td>   -2.344</td>\n",
       "</tr>\n",
       "<tr>\n",
       "  <th>weather_rain</th>       <td>    0.1250</td> <td>    0.033</td> <td>    3.801</td> <td> 0.000</td> <td>    0.061</td> <td>    0.189</td>\n",
       "</tr>\n",
       "<tr>\n",
       "  <th>weather_snow</th>       <td>    0.0472</td> <td>    0.084</td> <td>    0.563</td> <td> 0.573</td> <td>   -0.117</td> <td>    0.211</td>\n",
       "</tr>\n",
       "<tr>\n",
       "  <th>weather_sleet_hail</th> <td>   -0.0161</td> <td>    0.268</td> <td>   -0.060</td> <td> 0.952</td> <td>   -0.541</td> <td>    0.508</td>\n",
       "</tr>\n",
       "<tr>\n",
       "  <th>weather_fog</th>        <td>    0.1351</td> <td>    0.289</td> <td>    0.468</td> <td> 0.640</td> <td>   -0.431</td> <td>    0.701</td>\n",
       "</tr>\n",
       "<tr>\n",
       "  <th>weather_rain_fog</th>   <td>    0.0249</td> <td>    0.230</td> <td>    0.108</td> <td> 0.914</td> <td>   -0.425</td> <td>    0.475</td>\n",
       "</tr>\n",
       "<tr>\n",
       "  <th>weather_sleet_fog</th>  <td>   -0.3259</td> <td>    0.447</td> <td>   -0.728</td> <td> 0.466</td> <td>   -1.203</td> <td>    0.551</td>\n",
       "</tr>\n",
       "</table>"
      ],
      "text/plain": [
       "<class 'statsmodels.iolib.summary.Summary'>\n",
       "\"\"\"\n",
       "                          Poisson Regression Results                          \n",
       "==============================================================================\n",
       "Dep. Variable:                younger   No. Observations:                77462\n",
       "Model:                        Poisson   Df Residuals:                    77455\n",
       "Method:                           MLE   Df Model:                            6\n",
       "Date:                Fri, 28 Feb 2020   Pseudo R-squ.:               0.0003016\n",
       "Time:                        19:36:49   Log-Likelihood:                -24853.\n",
       "converged:                       True   LL-Null:                       -24860.\n",
       "Covariance Type:            nonrobust   LLR p-value:                   0.02027\n",
       "======================================================================================\n",
       "                         coef    std err          z      P>|z|      [0.025      0.975]\n",
       "--------------------------------------------------------------------------------------\n",
       "Intercept             -2.3687      0.013   -184.989      0.000      -2.394      -2.344\n",
       "weather_rain           0.1250      0.033      3.801      0.000       0.061       0.189\n",
       "weather_snow           0.0472      0.084      0.563      0.573      -0.117       0.211\n",
       "weather_sleet_hail    -0.0161      0.268     -0.060      0.952      -0.541       0.508\n",
       "weather_fog            0.1351      0.289      0.468      0.640      -0.431       0.701\n",
       "weather_rain_fog       0.0249      0.230      0.108      0.914      -0.425       0.475\n",
       "weather_sleet_fog     -0.3259      0.447     -0.728      0.466      -1.203       0.551\n",
       "======================================================================================\n",
       "\"\"\""
      ]
     },
     "execution_count": 40,
     "metadata": {},
     "output_type": "execute_result"
    }
   ],
   "source": [
    "formula='younger ~ weather_rain + weather_snow + weather_sleet_hail + weather_fog + weather_rain_fog + weather_sleet_fog'\n",
    "model = smf.poisson(formula, data=df)\n",
    "results = model.fit()\n",
    "results.summary() "
   ]
  },
  {
   "cell_type": "code",
   "execution_count": 41,
   "metadata": {},
   "outputs": [
    {
     "name": "stdout",
     "output_type": "stream",
     "text": [
      "Optimization terminated successfully.\n",
      "         Current function value: 0.756159\n",
      "         Iterations 5\n"
     ]
    },
    {
     "data": {
      "text/html": [
       "<table class=\"simpletable\">\n",
       "<caption>Poisson Regression Results</caption>\n",
       "<tr>\n",
       "  <th>Dep. Variable:</th>         <td>older</td>      <th>  No. Observations:  </th>  <td> 77462</td>  \n",
       "</tr>\n",
       "<tr>\n",
       "  <th>Model:</th>                <td>Poisson</td>     <th>  Df Residuals:      </th>  <td> 77455</td>  \n",
       "</tr>\n",
       "<tr>\n",
       "  <th>Method:</th>                 <td>MLE</td>       <th>  Df Model:          </th>  <td>     6</td>  \n",
       "</tr>\n",
       "<tr>\n",
       "  <th>Date:</th>            <td>Fri, 28 Feb 2020</td> <th>  Pseudo R-squ.:     </th> <td>0.0003978</td>\n",
       "</tr>\n",
       "<tr>\n",
       "  <th>Time:</th>                <td>19:36:52</td>     <th>  Log-Likelihood:    </th> <td> -58574.</td> \n",
       "</tr>\n",
       "<tr>\n",
       "  <th>converged:</th>             <td>True</td>       <th>  LL-Null:           </th> <td> -58597.</td> \n",
       "</tr>\n",
       "<tr>\n",
       "  <th>Covariance Type:</th>     <td>nonrobust</td>    <th>  LLR p-value:       </th> <td>2.233e-08</td>\n",
       "</tr>\n",
       "</table>\n",
       "<table class=\"simpletable\">\n",
       "<tr>\n",
       "           <td></td>             <th>coef</th>     <th>std err</th>      <th>z</th>      <th>P>|z|</th>  <th>[0.025</th>    <th>0.975]</th>  \n",
       "</tr>\n",
       "<tr>\n",
       "  <th>Intercept</th>          <td>   -0.9705</td> <td>    0.006</td> <td> -152.489</td> <td> 0.000</td> <td>   -0.983</td> <td>   -0.958</td>\n",
       "</tr>\n",
       "<tr>\n",
       "  <th>weather_rain</th>       <td>   -0.0768</td> <td>    0.018</td> <td>   -4.311</td> <td> 0.000</td> <td>   -0.112</td> <td>   -0.042</td>\n",
       "</tr>\n",
       "<tr>\n",
       "  <th>weather_snow</th>       <td>   -0.2344</td> <td>    0.048</td> <td>   -4.906</td> <td> 0.000</td> <td>   -0.328</td> <td>   -0.141</td>\n",
       "</tr>\n",
       "<tr>\n",
       "  <th>weather_sleet_hail</th> <td>   -0.1022</td> <td>    0.139</td> <td>   -0.736</td> <td> 0.462</td> <td>   -0.374</td> <td>    0.170</td>\n",
       "</tr>\n",
       "<tr>\n",
       "  <th>weather_fog</th>        <td>   -0.0345</td> <td>    0.156</td> <td>   -0.220</td> <td> 0.825</td> <td>   -0.341</td> <td>    0.272</td>\n",
       "</tr>\n",
       "<tr>\n",
       "  <th>weather_rain_fog</th>   <td>   -0.2235</td> <td>    0.129</td> <td>   -1.729</td> <td> 0.084</td> <td>   -0.477</td> <td>    0.030</td>\n",
       "</tr>\n",
       "<tr>\n",
       "  <th>weather_sleet_fog</th>  <td>    0.1321</td> <td>    0.177</td> <td>    0.747</td> <td> 0.455</td> <td>   -0.215</td> <td>    0.479</td>\n",
       "</tr>\n",
       "</table>"
      ],
      "text/plain": [
       "<class 'statsmodels.iolib.summary.Summary'>\n",
       "\"\"\"\n",
       "                          Poisson Regression Results                          \n",
       "==============================================================================\n",
       "Dep. Variable:                  older   No. Observations:                77462\n",
       "Model:                        Poisson   Df Residuals:                    77455\n",
       "Method:                           MLE   Df Model:                            6\n",
       "Date:                Fri, 28 Feb 2020   Pseudo R-squ.:               0.0003978\n",
       "Time:                        19:36:52   Log-Likelihood:                -58574.\n",
       "converged:                       True   LL-Null:                       -58597.\n",
       "Covariance Type:            nonrobust   LLR p-value:                 2.233e-08\n",
       "======================================================================================\n",
       "                         coef    std err          z      P>|z|      [0.025      0.975]\n",
       "--------------------------------------------------------------------------------------\n",
       "Intercept             -0.9705      0.006   -152.489      0.000      -0.983      -0.958\n",
       "weather_rain          -0.0768      0.018     -4.311      0.000      -0.112      -0.042\n",
       "weather_snow          -0.2344      0.048     -4.906      0.000      -0.328      -0.141\n",
       "weather_sleet_hail    -0.1022      0.139     -0.736      0.462      -0.374       0.170\n",
       "weather_fog           -0.0345      0.156     -0.220      0.825      -0.341       0.272\n",
       "weather_rain_fog      -0.2235      0.129     -1.729      0.084      -0.477       0.030\n",
       "weather_sleet_fog      0.1321      0.177      0.747      0.455      -0.215       0.479\n",
       "======================================================================================\n",
       "\"\"\""
      ]
     },
     "execution_count": 41,
     "metadata": {},
     "output_type": "execute_result"
    }
   ],
   "source": [
    "formula='older ~ weather_rain + weather_snow + weather_sleet_hail + weather_fog + weather_rain_fog + weather_sleet_fog'\n",
    "model = smf.poisson(formula, data=df)\n",
    "results = model.fit()\n",
    "results.summary() "
   ]
  },
  {
   "cell_type": "markdown",
   "metadata": {},
   "source": [
    "### Hypothesis 3: The combination of road type and weather conditions show a relationship to traffic incidents."
   ]
  },
  {
   "cell_type": "code",
   "execution_count": 43,
   "metadata": {},
   "outputs": [],
   "source": [
    "# create dummy variables for regression\n",
    "\n",
    "# road condition\n",
    "df['road_condition_dry'] = np.where(df['road_condition'] == '0',1,0)\n",
    "df['road_condition_wet'] = np.where(df['road_condition'] == '1',1,0)\n",
    "df['road_condition_sand'] = np.where(df['road_condition'] == '2',1,0)\n",
    "df['road_condition_snow'] = np.where(df['road_condition'] == '3',1,0)\n",
    "df['road_condition_slush'] = np.where(df['road_condition'] == '4',1,0)\n",
    "df['road_condition_ice'] = np.where(df['road_condition'] == '5',1,0)\n",
    "df['road_condition_icepatch'] = np.where(df['road_condition'] == '6',1,0)\n",
    "df['road_condition_water'] = np.where(df['road_condition'] == '7',1,0)"
   ]
  },
  {
   "cell_type": "code",
   "execution_count": null,
   "metadata": {},
   "outputs": [],
   "source": [
    "# data is set up for hyp 3\n",
    "'road_condition_dry', 'road_condition_wet', 'road_condition_sand', 'road_condition_snow', 'road_condition_slush', \n",
    "'road_condition_ice', 'road_condition_icepatch', 'road_condition_water'\n",
    "'weather_rain', 'weather_sleet_hail', 'weather_snow', 'weather_fog', 'weather_rain_fog', 'weather_sleet_fog'"
   ]
  },
  {
   "cell_type": "markdown",
   "metadata": {},
   "source": [
    "I am unable to assess hypothesis 3.  To sufficiently address this hypothesis I would need data related to traffic volume for each day."
   ]
  },
  {
   "cell_type": "markdown",
   "metadata": {},
   "source": [
    "### Hypothesis 4: Adverse weather increases the instances of injuries among accidents."
   ]
  },
  {
   "cell_type": "code",
   "execution_count": null,
   "metadata": {},
   "outputs": [],
   "source": [
    "# data is set up for hyp 4\n",
    "\n",
    "'weather_rain', 'weather_sleet_hail', 'weather_snow', 'weather_fog', 'weather_rain_fog', 'weather_sleet_fog'\n",
    "'injury_major', 'injury_moderate', 'injury_minor', 'injury_total', 'injury_fatal'"
   ]
  },
  {
   "cell_type": "code",
   "execution_count": 44,
   "metadata": {},
   "outputs": [
    {
     "name": "stdout",
     "output_type": "stream",
     "text": [
      "Optimization terminated successfully.\n",
      "         Current function value: 1.296727\n",
      "         Iterations 5\n"
     ]
    },
    {
     "data": {
      "text/html": [
       "<table class=\"simpletable\">\n",
       "<caption>Poisson Regression Results</caption>\n",
       "<tr>\n",
       "  <th>Dep. Variable:</th>     <td>injury_count</td>   <th>  No. Observations:  </th>   <td> 77462</td>   \n",
       "</tr>\n",
       "<tr>\n",
       "  <th>Model:</th>                <td>Poisson</td>     <th>  Df Residuals:      </th>   <td> 77455</td>   \n",
       "</tr>\n",
       "<tr>\n",
       "  <th>Method:</th>                 <td>MLE</td>       <th>  Df Model:          </th>   <td>     6</td>   \n",
       "</tr>\n",
       "<tr>\n",
       "  <th>Date:</th>            <td>Fri, 28 Feb 2020</td> <th>  Pseudo R-squ.:     </th>  <td>0.0005254</td> \n",
       "</tr>\n",
       "<tr>\n",
       "  <th>Time:</th>                <td>19:39:26</td>     <th>  Log-Likelihood:    </th> <td>-1.0045e+05</td>\n",
       "</tr>\n",
       "<tr>\n",
       "  <th>converged:</th>             <td>True</td>       <th>  LL-Null:           </th> <td>-1.0050e+05</td>\n",
       "</tr>\n",
       "<tr>\n",
       "  <th>Covariance Type:</th>     <td>nonrobust</td>    <th>  LLR p-value:       </th>  <td>1.694e-20</td> \n",
       "</tr>\n",
       "</table>\n",
       "<table class=\"simpletable\">\n",
       "<tr>\n",
       "           <td></td>             <th>coef</th>     <th>std err</th>      <th>z</th>      <th>P>|z|</th>  <th>[0.025</th>    <th>0.975]</th>  \n",
       "</tr>\n",
       "<tr>\n",
       "  <th>Intercept</th>          <td>    0.0681</td> <td>    0.004</td> <td>   17.974</td> <td> 0.000</td> <td>    0.061</td> <td>    0.075</td>\n",
       "</tr>\n",
       "<tr>\n",
       "  <th>weather_rain</th>       <td>   -0.0589</td> <td>    0.011</td> <td>   -5.593</td> <td> 0.000</td> <td>   -0.079</td> <td>   -0.038</td>\n",
       "</tr>\n",
       "<tr>\n",
       "  <th>weather_snow</th>       <td>   -0.2101</td> <td>    0.028</td> <td>   -7.479</td> <td> 0.000</td> <td>   -0.265</td> <td>   -0.155</td>\n",
       "</tr>\n",
       "<tr>\n",
       "  <th>weather_sleet_hail</th> <td>   -0.3128</td> <td>    0.092</td> <td>   -3.409</td> <td> 0.001</td> <td>   -0.493</td> <td>   -0.133</td>\n",
       "</tr>\n",
       "<tr>\n",
       "  <th>weather_fog</th>        <td>   -0.2540</td> <td>    0.104</td> <td>   -2.447</td> <td> 0.014</td> <td>   -0.457</td> <td>   -0.051</td>\n",
       "</tr>\n",
       "<tr>\n",
       "  <th>weather_rain_fog</th>   <td>    0.0097</td> <td>    0.068</td> <td>    0.141</td> <td> 0.888</td> <td>   -0.125</td> <td>    0.144</td>\n",
       "</tr>\n",
       "<tr>\n",
       "  <th>weather_sleet_fog</th>  <td>   -0.0817</td> <td>    0.117</td> <td>   -0.697</td> <td> 0.486</td> <td>   -0.311</td> <td>    0.148</td>\n",
       "</tr>\n",
       "</table>"
      ],
      "text/plain": [
       "<class 'statsmodels.iolib.summary.Summary'>\n",
       "\"\"\"\n",
       "                          Poisson Regression Results                          \n",
       "==============================================================================\n",
       "Dep. Variable:           injury_count   No. Observations:                77462\n",
       "Model:                        Poisson   Df Residuals:                    77455\n",
       "Method:                           MLE   Df Model:                            6\n",
       "Date:                Fri, 28 Feb 2020   Pseudo R-squ.:               0.0005254\n",
       "Time:                        19:39:26   Log-Likelihood:            -1.0045e+05\n",
       "converged:                       True   LL-Null:                   -1.0050e+05\n",
       "Covariance Type:            nonrobust   LLR p-value:                 1.694e-20\n",
       "======================================================================================\n",
       "                         coef    std err          z      P>|z|      [0.025      0.975]\n",
       "--------------------------------------------------------------------------------------\n",
       "Intercept              0.0681      0.004     17.974      0.000       0.061       0.075\n",
       "weather_rain          -0.0589      0.011     -5.593      0.000      -0.079      -0.038\n",
       "weather_snow          -0.2101      0.028     -7.479      0.000      -0.265      -0.155\n",
       "weather_sleet_hail    -0.3128      0.092     -3.409      0.001      -0.493      -0.133\n",
       "weather_fog           -0.2540      0.104     -2.447      0.014      -0.457      -0.051\n",
       "weather_rain_fog       0.0097      0.068      0.141      0.888      -0.125       0.144\n",
       "weather_sleet_fog     -0.0817      0.117     -0.697      0.486      -0.311       0.148\n",
       "======================================================================================\n",
       "\"\"\""
      ]
     },
     "execution_count": 44,
     "metadata": {},
     "output_type": "execute_result"
    }
   ],
   "source": [
    "formula='injury_count ~ weather_rain + weather_snow + weather_sleet_hail + weather_fog + weather_rain_fog + weather_sleet_fog'\n",
    "model = smf.poisson(formula, data=df)\n",
    "results = model.fit()\n",
    "results.summary() "
   ]
  },
  {
   "cell_type": "markdown",
   "metadata": {},
   "source": [
    "Four of the weather types are significant to injury counts in a crash: rain, snow, sleet/hail, and fog.  Each of the four significant weather types have a negative coefficient, indicating a negative relationship to injuries; injury counts are lower when the four weather types are present.  "
   ]
  },
  {
   "cell_type": "markdown",
   "metadata": {},
   "source": [
    "### Hypothesis 5: There is a higher incidence of accidents in areas based on latitude and longitude."
   ]
  },
  {
   "cell_type": "markdown",
   "metadata": {},
   "source": [
    "I am unable to assess this hypothesis."
   ]
  }
 ],
 "metadata": {
  "kernelspec": {
   "display_name": "Python 3",
   "language": "python",
   "name": "python3"
  },
  "language_info": {
   "codemirror_mode": {
    "name": "ipython",
    "version": 3
   },
   "file_extension": ".py",
   "mimetype": "text/x-python",
   "name": "python",
   "nbconvert_exporter": "python",
   "pygments_lexer": "ipython3",
   "version": "3.7.4"
  }
 },
 "nbformat": 4,
 "nbformat_minor": 2
}
